{
 "cells": [
  {
   "cell_type": "markdown",
   "id": "00024100-61a9-4a0c-b0f9-e89f4f0f8274",
   "metadata": {},
   "source": [
    "# Load Modules"
   ]
  },
  {
   "cell_type": "code",
   "execution_count": 31,
   "id": "41a32964-7d96-45f2-8e79-a3c95cb22893",
   "metadata": {},
   "outputs": [],
   "source": [
    "import numpy as np\n",
    "import pandas as pd\n",
    "import polars as pl\n",
    "import gzip\n",
    "import matplotlib.pyplot as plt\n",
    "from scipy.special import expit"
   ]
  },
  {
   "cell_type": "markdown",
   "id": "8e643cf2-f904-4dd6-8e0a-c4324ac9bb6f",
   "metadata": {},
   "source": [
    "# Generate Data"
   ]
  },
  {
   "cell_type": "code",
   "execution_count": 2,
   "id": "8a7ac6d5-c589-4b6f-9e2e-0735202e4c41",
   "metadata": {},
   "outputs": [],
   "source": [
    "np.random.seed(42)\n",
    "\n",
    "n=1000\n",
    "data = {\n",
    "    \"var1\": np.random.random(n),\n",
    "    \"cat1\": [f\"c{i}\" for i in np.random.randint(1, np.random.randint(2, 5), n)],\n",
    "    \"cat2\": [f\"c{i}\" for i in np.random.randint(1, np.random.randint(2, 5), n)]\n",
    "}"
   ]
  },
  {
   "cell_type": "code",
   "execution_count": 3,
   "id": "e10e9766-041d-4773-a6bc-7e8fdeeb0393",
   "metadata": {},
   "outputs": [],
   "source": [
    "pddf = pd.DataFrame(data)\n",
    "pldf = pl.DataFrame(data)"
   ]
  },
  {
   "cell_type": "markdown",
   "id": "f39ac27d-5c76-4771-aba3-fadc568b373e",
   "metadata": {},
   "source": [
    "# Benchmarks"
   ]
  },
  {
   "cell_type": "markdown",
   "id": "502f5e5b-151b-4060-8b30-72afa6f81e66",
   "metadata": {},
   "source": [
    "## Loading Data"
   ]
  },
  {
   "cell_type": "code",
   "execution_count": 4,
   "id": "83359f03-48d4-4b1c-a7e9-195ff1cd5bf9",
   "metadata": {},
   "outputs": [
    {
     "name": "stdout",
     "output_type": "stream",
     "text": [
      "233 µs ± 5.45 µs per loop (mean ± std. dev. of 7 runs, 1000 loops each)\n"
     ]
    }
   ],
   "source": [
    "%%timeit\n",
    "pddf = pd.DataFrame(data)"
   ]
  },
  {
   "cell_type": "code",
   "execution_count": 5,
   "id": "d4bbbe76-cb88-491a-84f8-20b9669efa33",
   "metadata": {},
   "outputs": [
    {
     "name": "stdout",
     "output_type": "stream",
     "text": [
      "93.2 µs ± 183 ns per loop (mean ± std. dev. of 7 runs, 10000 loops each)\n"
     ]
    }
   ],
   "source": [
    "%%timeit\n",
    "pldf = pl.DataFrame(data)"
   ]
  },
  {
   "cell_type": "markdown",
   "id": "a9689aee-5194-47e6-8535-5e076ae964ec",
   "metadata": {},
   "source": [
    "## Writing CSV"
   ]
  },
  {
   "cell_type": "code",
   "execution_count": 6,
   "id": "2fd58fbb-ee66-4b69-bc60-f793ca305b58",
   "metadata": {},
   "outputs": [
    {
     "name": "stdout",
     "output_type": "stream",
     "text": [
      "1.99 ms ± 4.38 µs per loop (mean ± std. dev. of 7 runs, 100 loops each)\n"
     ]
    }
   ],
   "source": [
    "%%timeit\n",
    "pddf.to_csv(\"data/pandas_frame.tab\", sep=\"\\t\")"
   ]
  },
  {
   "cell_type": "code",
   "execution_count": 7,
   "id": "51bdf347-30b8-4641-aff2-8698c55b5563",
   "metadata": {},
   "outputs": [
    {
     "name": "stdout",
     "output_type": "stream",
     "text": [
      "226 µs ± 14.3 µs per loop (mean ± std. dev. of 7 runs, 1000 loops each)\n"
     ]
    }
   ],
   "source": [
    "%%timeit\n",
    "pldf.to_csv(\"data/polars_frame.tab\", sep=\"\\t\")"
   ]
  },
  {
   "cell_type": "markdown",
   "id": "fca18568-1cc4-423a-8a34-f2150ddd59a6",
   "metadata": {},
   "source": [
    "## Writing GZIP CSV"
   ]
  },
  {
   "cell_type": "code",
   "execution_count": 33,
   "id": "e48cf012-395d-480a-b6c2-d92f589e5c42",
   "metadata": {},
   "outputs": [
    {
     "name": "stdout",
     "output_type": "stream",
     "text": [
      "11.6 ms ± 110 µs per loop (mean ± std. dev. of 7 runs, 100 loops each)\n"
     ]
    }
   ],
   "source": [
    "%%timeit\n",
    "pddf.to_csv(\"data/pandas_frame.tab.gz\", sep=\"\\t\")"
   ]
  },
  {
   "cell_type": "code",
   "execution_count": 34,
   "id": "40fde66c-b4b7-40b6-a276-4c96a5dd3e5f",
   "metadata": {},
   "outputs": [
    {
     "name": "stdout",
     "output_type": "stream",
     "text": [
      "1.75 ms ± 6.29 µs per loop (mean ± std. dev. of 7 runs, 1000 loops each)\n"
     ]
    }
   ],
   "source": [
    "%%timeit\n",
    "pldf.to_csv(gzip.open(\"data/polars_frame.tab.gz\", \"w+\"), sep=\"\\t\")"
   ]
  },
  {
   "cell_type": "markdown",
   "id": "cb57d0b9-d123-488f-800c-8256a20d3996",
   "metadata": {},
   "source": [
    "## Reading CSV"
   ]
  },
  {
   "cell_type": "code",
   "execution_count": 8,
   "id": "fde7067b-99a2-4a0a-b527-560e2223b41b",
   "metadata": {},
   "outputs": [
    {
     "name": "stdout",
     "output_type": "stream",
     "text": [
      "916 µs ± 14.5 µs per loop (mean ± std. dev. of 7 runs, 1000 loops each)\n"
     ]
    }
   ],
   "source": [
    "%%timeit\n",
    "pd.read_csv(\"data/pandas_frame.tab\", sep=\"\\t\")"
   ]
  },
  {
   "cell_type": "code",
   "execution_count": 9,
   "id": "9699e024-505c-4f28-840d-d790f6a039d2",
   "metadata": {},
   "outputs": [
    {
     "name": "stdout",
     "output_type": "stream",
     "text": [
      "184 µs ± 1.5 µs per loop (mean ± std. dev. of 7 runs, 10000 loops each)\n"
     ]
    }
   ],
   "source": [
    "%%timeit\n",
    "pl.read_csv(\"data/polars_frame.tab\", sep=\"\\t\")"
   ]
  },
  {
   "cell_type": "markdown",
   "id": "04d4f0ff-c526-4f26-bb69-178d6175a4c8",
   "metadata": {},
   "source": [
    "## Reading GZIP CSV"
   ]
  },
  {
   "cell_type": "code",
   "execution_count": 35,
   "id": "b4bcc163-d150-4bda-ae06-1be92a3678b6",
   "metadata": {},
   "outputs": [
    {
     "name": "stdout",
     "output_type": "stream",
     "text": [
      "1.79 ms ± 6.54 µs per loop (mean ± std. dev. of 7 runs, 1000 loops each)\n"
     ]
    }
   ],
   "source": [
    "%%timeit\n",
    "pd.read_csv(\"data/pandas_frame.tab.gz\", sep=\"\\t\")"
   ]
  },
  {
   "cell_type": "code",
   "execution_count": 36,
   "id": "c827b41d-72db-4356-ada5-fe5dcc0d7db2",
   "metadata": {},
   "outputs": [
    {
     "name": "stdout",
     "output_type": "stream",
     "text": [
      "326 µs ± 5.06 µs per loop (mean ± std. dev. of 7 runs, 1000 loops each)\n"
     ]
    }
   ],
   "source": [
    "%%timeit\n",
    "pl.read_csv(gzip.open(\"data/polars_frame.tab.gz\", \"r\"), sep=\"\\t\")"
   ]
  },
  {
   "cell_type": "markdown",
   "id": "81e8eceb-1ca5-4c12-aefd-29c09d0a3c85",
   "metadata": {},
   "source": [
    "## Get Unique"
   ]
  },
  {
   "cell_type": "code",
   "execution_count": 10,
   "id": "71b155cc-9236-4f3c-a10f-26a3ae44a011",
   "metadata": {},
   "outputs": [
    {
     "name": "stdout",
     "output_type": "stream",
     "text": [
      "52.2 µs ± 429 ns per loop (mean ± std. dev. of 7 runs, 10000 loops each)\n"
     ]
    }
   ],
   "source": [
    "%%timeit\n",
    "pddf.cat1.unique()"
   ]
  },
  {
   "cell_type": "code",
   "execution_count": 11,
   "id": "7c0fe91f-7ac2-4df8-a28f-ba43e1418bb2",
   "metadata": {},
   "outputs": [
    {
     "name": "stdout",
     "output_type": "stream",
     "text": [
      "18.1 µs ± 42.2 ns per loop (mean ± std. dev. of 7 runs, 100000 loops each)\n"
     ]
    }
   ],
   "source": [
    "%%timeit\n",
    "pldf.cat1.unique()"
   ]
  },
  {
   "cell_type": "markdown",
   "id": "7ddc4ca1-6b83-497a-a7db-e0d5499c4993",
   "metadata": {},
   "source": [
    "## Series Operations"
   ]
  },
  {
   "cell_type": "code",
   "execution_count": 12,
   "id": "18cd7cfd-309d-4b7b-aec7-79a735f2334b",
   "metadata": {},
   "outputs": [
    {
     "name": "stdout",
     "output_type": "stream",
     "text": [
      "42.8 µs ± 148 ns per loop (mean ± std. dev. of 7 runs, 10000 loops each)\n"
     ]
    }
   ],
   "source": [
    "%%timeit\n",
    "pddf.var1.mean()"
   ]
  },
  {
   "cell_type": "code",
   "execution_count": 13,
   "id": "0bcfded4-2d93-469f-9ea2-b52455bf48dc",
   "metadata": {},
   "outputs": [
    {
     "name": "stdout",
     "output_type": "stream",
     "text": [
      "1.11 µs ± 3.19 ns per loop (mean ± std. dev. of 7 runs, 1000000 loops each)\n"
     ]
    }
   ],
   "source": [
    "%%timeit\n",
    "pldf.var1.mean()"
   ]
  },
  {
   "cell_type": "markdown",
   "id": "5745ca48-e236-44c4-aae3-b1e307af7128",
   "metadata": {},
   "source": [
    "## Pivoting"
   ]
  },
  {
   "cell_type": "code",
   "execution_count": 14,
   "id": "66d2dc00-0802-4abd-b624-e94a600e6451",
   "metadata": {},
   "outputs": [
    {
     "name": "stdout",
     "output_type": "stream",
     "text": [
      "3.11 ms ± 12.9 µs per loop (mean ± std. dev. of 7 runs, 100 loops each)\n"
     ]
    }
   ],
   "source": [
    "%%timeit\n",
    "piv_pd = pddf.pivot_table(index=\"cat1\", columns=\"cat2\", values=\"var1\")"
   ]
  },
  {
   "cell_type": "code",
   "execution_count": 15,
   "id": "66712d7b-d425-41fc-bb90-175aad710fb0",
   "metadata": {},
   "outputs": [
    {
     "name": "stdout",
     "output_type": "stream",
     "text": [
      "214 µs ± 9.11 µs per loop (mean ± std. dev. of 7 runs, 1000 loops each)\n"
     ]
    }
   ],
   "source": [
    "%%timeit\n",
    "piv_pl = pldf.groupby(\"cat1\").pivot(pivot_column=\"cat2\", values_column=\"var1\").first()"
   ]
  },
  {
   "cell_type": "code",
   "execution_count": 16,
   "id": "dc457b0e-bc8f-4522-9eb6-00e2b96b754f",
   "metadata": {},
   "outputs": [],
   "source": [
    "piv_pd = pddf.pivot_table(index=\"cat1\", columns=\"cat2\", values=\"var1\")\n",
    "piv_pl = pldf.groupby(\"cat1\").pivot(pivot_column=\"cat2\", values_column=\"var1\").first()"
   ]
  },
  {
   "cell_type": "markdown",
   "id": "d65c9c4e-c16c-4888-a23c-bd41376a53ef",
   "metadata": {},
   "source": [
    "## Column Assignment"
   ]
  },
  {
   "cell_type": "code",
   "execution_count": 17,
   "id": "a74fdba3-1f50-449b-ad06-0b970ab02a2d",
   "metadata": {},
   "outputs": [
    {
     "name": "stdout",
     "output_type": "stream",
     "text": [
      "334 µs ± 1.03 µs per loop (mean ± std. dev. of 7 runs, 1000 loops each)\n"
     ]
    }
   ],
   "source": [
    "%%timeit\n",
    "pddf[\"test_a\"] = pddf[\"var1\"] * 100\n",
    "pddf[\"test_b\"] = pddf[\"var1\"] * 10\n",
    "pddf[\"test_c\"] = pddf[\"var1\"] * 0.1"
   ]
  },
  {
   "cell_type": "code",
   "execution_count": 18,
   "id": "f67972be-3de0-4137-97b5-a085ae6408c4",
   "metadata": {},
   "outputs": [
    {
     "name": "stdout",
     "output_type": "stream",
     "text": [
      "67.9 µs ± 1.34 µs per loop (mean ± std. dev. of 7 runs, 10000 loops each)\n"
     ]
    }
   ],
   "source": [
    "%%timeit\n",
    "pldf.with_columns([\n",
    "    (pl.col(\"var1\") * 100).alias(\"test_a\"),\n",
    "    (pl.col(\"var1\") * 10).alias(\"test_b\"),\n",
    "    (pl.col(\"var1\") * 0.1).alias(\"test_c\")\n",
    "])"
   ]
  },
  {
   "cell_type": "markdown",
   "id": "effda0ba-f6d3-4126-89cc-81e09330cfb6",
   "metadata": {},
   "source": [
    "## Filtering"
   ]
  },
  {
   "cell_type": "code",
   "execution_count": 19,
   "id": "fc544d89-7c06-458a-a594-8382e38f7579",
   "metadata": {},
   "outputs": [
    {
     "name": "stdout",
     "output_type": "stream",
     "text": [
      "390 µs ± 1.89 µs per loop (mean ± std. dev. of 7 runs, 1000 loops each)\n"
     ]
    }
   ],
   "source": [
    "%%timeit\n",
    "pddf[\n",
    "    (pddf[\"cat1\"] == \"c3\") &\n",
    "    (pddf[\"cat2\"] == \"c1\")\n",
    "]"
   ]
  },
  {
   "cell_type": "code",
   "execution_count": 20,
   "id": "1d6bc17a-4adc-4151-af7a-429856fdf392",
   "metadata": {},
   "outputs": [
    {
     "name": "stdout",
     "output_type": "stream",
     "text": [
      "101 µs ± 1.19 µs per loop (mean ± std. dev. of 7 runs, 10000 loops each)\n"
     ]
    }
   ],
   "source": [
    "%%timeit\n",
    "pldf.filter(\n",
    "    (pl.col(\"cat1\") == \"c3\") &\n",
    "    (pl.col(\"cat2\") == \"c1\")\n",
    ")"
   ]
  },
  {
   "cell_type": "markdown",
   "id": "4eb1af9e-c5c3-4c05-9738-455ae1abdf0b",
   "metadata": {},
   "source": [
    "## Groupby"
   ]
  },
  {
   "cell_type": "code",
   "execution_count": 21,
   "id": "70451e8a-6e73-4c00-bd0e-96bc6d8e6b42",
   "metadata": {},
   "outputs": [
    {
     "name": "stdout",
     "output_type": "stream",
     "text": [
      "952 µs ± 8.47 µs per loop (mean ± std. dev. of 7 runs, 1000 loops each)\n"
     ]
    }
   ],
   "source": [
    "%%timeit\n",
    "pddf.groupby([\"cat1\", \"cat2\"]).agg({\"var1\": \"mean\"})"
   ]
  },
  {
   "cell_type": "code",
   "execution_count": 22,
   "id": "02b8e1ed-499a-4508-a9ae-ebb0045b0bac",
   "metadata": {},
   "outputs": [
    {
     "name": "stdout",
     "output_type": "stream",
     "text": [
      "159 µs ± 3.94 µs per loop (mean ± std. dev. of 7 runs, 10000 loops each)\n"
     ]
    }
   ],
   "source": [
    "%%timeit\n",
    "pldf.groupby([\"cat1\", \"cat2\"]).agg({\"var1\": \"mean\"})"
   ]
  },
  {
   "cell_type": "markdown",
   "id": "4bb18dd0-6ca1-4604-bc71-cea7c6c23573",
   "metadata": {},
   "source": [
    "## Groupby Arbitrary Function"
   ]
  },
  {
   "cell_type": "code",
   "execution_count": 23,
   "id": "8585ba0f-031d-41b6-9504-a11cc87ae265",
   "metadata": {},
   "outputs": [
    {
     "name": "stdout",
     "output_type": "stream",
     "text": [
      "1.25 ms ± 44.6 µs per loop (mean ± std. dev. of 7 runs, 1000 loops each)\n"
     ]
    }
   ],
   "source": [
    "%%timeit\n",
    "pddf.groupby([\"cat1\", \"cat2\"])\\\n",
    "    .apply(lambda x: expit(x.var1).sum())"
   ]
  },
  {
   "cell_type": "code",
   "execution_count": 24,
   "id": "d5f3f901-9892-4fc3-addb-5d713534461c",
   "metadata": {},
   "outputs": [
    {
     "name": "stdout",
     "output_type": "stream",
     "text": [
      "322 µs ± 22.5 µs per loop (mean ± std. dev. of 7 runs, 1000 loops each)\n"
     ]
    }
   ],
   "source": [
    "%%timeit\n",
    "pldf.groupby([\"cat1\", \"cat2\"])\\\n",
    "    .agg(expit(pl.col(\"var1\")).sum())"
   ]
  },
  {
   "cell_type": "markdown",
   "id": "7749e208-34f7-4f0e-a94e-f6fa5015f4dc",
   "metadata": {},
   "source": [
    "## Fold Operations"
   ]
  },
  {
   "cell_type": "code",
   "execution_count": 25,
   "id": "a3c77cbe-e8bb-48f0-be37-f77aa40582ed",
   "metadata": {},
   "outputs": [
    {
     "name": "stdout",
     "output_type": "stream",
     "text": [
      "212 µs ± 6.11 µs per loop (mean ± std. dev. of 7 runs, 1000 loops each)\n"
     ]
    }
   ],
   "source": [
    "%%timeit\n",
    "piv_pd.sum(axis=0)"
   ]
  },
  {
   "cell_type": "code",
   "execution_count": 26,
   "id": "3beba77e-9269-4f9a-888d-69f9b73bef8f",
   "metadata": {},
   "outputs": [
    {
     "name": "stdout",
     "output_type": "stream",
     "text": [
      "84 µs ± 2.24 µs per loop (mean ± std. dev. of 7 runs, 10000 loops each)\n"
     ]
    }
   ],
   "source": [
    "%%timeit\n",
    "piv_pd.sum(axis=1)"
   ]
  },
  {
   "cell_type": "code",
   "execution_count": 27,
   "id": "5a206ad7-3288-4c65-b9e2-5d861cf48f8a",
   "metadata": {},
   "outputs": [
    {
     "name": "stdout",
     "output_type": "stream",
     "text": [
      "11 µs ± 87.3 ns per loop (mean ± std. dev. of 7 runs, 100000 loops each)\n"
     ]
    }
   ],
   "source": [
    "%%timeit\n",
    "piv_pl.sum(axis=0)"
   ]
  },
  {
   "cell_type": "code",
   "execution_count": 28,
   "id": "d1277db6-f272-4d04-be91-222b9c144478",
   "metadata": {},
   "outputs": [
    {
     "name": "stdout",
     "output_type": "stream",
     "text": [
      "1.51 µs ± 17 ns per loop (mean ± std. dev. of 7 runs, 1000000 loops each)\n"
     ]
    }
   ],
   "source": [
    "%%timeit\n",
    "piv_pl.sum(axis=1)"
   ]
  }
 ],
 "metadata": {
  "kernelspec": {
   "display_name": "Python 3 (ipykernel)",
   "language": "python",
   "name": "python3"
  },
  "language_info": {
   "codemirror_mode": {
    "name": "ipython",
    "version": 3
   },
   "file_extension": ".py",
   "mimetype": "text/x-python",
   "name": "python",
   "nbconvert_exporter": "python",
   "pygments_lexer": "ipython3",
   "version": "3.9.9"
  }
 },
 "nbformat": 4,
 "nbformat_minor": 5
}
